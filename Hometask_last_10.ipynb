{
  "nbformat": 4,
  "nbformat_minor": 0,
  "metadata": {
    "colab": {
      "provenance": []
    },
    "kernelspec": {
      "name": "python3",
      "display_name": "Python 3"
    },
    "language_info": {
      "name": "python"
    }
  },
  "cells": [
    {
      "cell_type": "code",
      "execution_count": 5,
      "metadata": {
        "colab": {
          "base_uri": "https://localhost:8080/"
        },
        "id": "zyGSBJZ11Hfe",
        "outputId": "6347b92c-180c-4f03-c77f-d3d0a31b4521"
      },
      "outputs": [
        {
          "output_type": "stream",
          "name": "stdout",
          "text": [
            "    it_is_machine  it_is_human\n",
            "0               1            0\n",
            "1               1            0\n",
            "2               1            0\n",
            "3               0            1\n",
            "4               1            0\n",
            "5               0            1\n",
            "6               1            0\n",
            "7               0            1\n",
            "8               1            0\n",
            "9               0            1\n",
            "10              1            0\n",
            "11              1            0\n",
            "12              0            1\n",
            "13              1            0\n",
            "14              0            1\n",
            "15              1            0\n",
            "16              0            1\n",
            "17              1            0\n",
            "18              1            0\n",
            "19              0            1\n"
          ]
        }
      ],
      "source": [
        "import pandas as pd\n",
        "\n",
        "import random\n",
        "list_one = ['machine'] * 1000\n",
        "list_one += ['human'] * 1000\n",
        "random.shuffle(list_one)\n",
        "data = pd.DataFrame({'Who_is_it?':list_one})\n",
        "\n",
        "\n",
        "data['it_is_machine'] = (data['Who_is_it?'] == 'machine').astype(int)\n",
        "data['it_is_human'] = (data['Who_is_it?'] == 'human').astype(int)\n",
        "\n",
        "data = data.drop(columns=['Who_is_it?'])\n",
        "\n",
        "print(data.head(20))\n",
        "\n",
        "\n",
        "\n",
        "\n",
        "\n",
        "\n"
      ]
    }
  ]
}